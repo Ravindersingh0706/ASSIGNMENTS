{
 "cells": [
  {
   "cell_type": "code",
   "execution_count": 1,
   "id": "688655be-93c0-47bd-be9a-4916b7af391a",
   "metadata": {},
   "outputs": [],
   "source": [
    "#                 BASIC PYTHON ASSIGNMENTS\n",
    "#                                  ASIIGNMENT 01"
   ]
  },
  {
   "cell_type": "code",
   "execution_count": 3,
   "id": "00f6d32e-4051-42bd-9112-6fc5ad5e539e",
   "metadata": {},
   "outputs": [],
   "source": [
    "#Q1 \n",
    "values are : \"hello\", 87.8,6\n",
    "expressions are: *,/,+6"
   ]
  },
  {
   "cell_type": "code",
   "execution_count": null,
   "id": "abbf0a43-3391-4cc8-af1a-da1c877bb9a8",
   "metadata": {},
   "outputs": [],
   "source": [
    "Q2:\n",
    "Variable are used to store data as like empty box while string is a type of data use to fill variable\n"
   ]
  },
  {
   "cell_type": "code",
   "execution_count": null,
   "id": "94fcc568-e095-4ab3-a8c8-b5e3d93d34ae",
   "metadata": {},
   "outputs": [],
   "source": [
    "Q3: three different data types are:\n",
    "    A) STRING = \"RAM\",\"RAVI\" ( any name except keywords)\n",
    "    B) INTEGER= 34,78 ( any integer)\n",
    "    C) FLOATS= 7.31 (Number containing decimals)"
   ]
  },
  {
   "cell_type": "code",
   "execution_count": null,
   "id": "774042e7-2d90-487e-9946-7ac20e19b247",
   "metadata": {},
   "outputs": [],
   "source": [
    "Q4 :\n",
    "    expression is combination of operations and operands that is interpreted to use produce some other values\n",
    "    they aree used to produce some other values\n",
    "    eg:- A+B-5\n"
   ]
  },
  {
   "cell_type": "code",
   "execution_count": null,
   "id": "f37b6c1f-b888-4fe3-a7dd-07447963d1cf",
   "metadata": {},
   "outputs": [],
   "source": [
    "Q5 : \n",
    "    expression used tp give some value by using operation and operands eg: 3+4-5= 2\n",
    "    but spam = 10 is a statement as it can not give any specific value"
   ]
  },
  {
   "cell_type": "code",
   "execution_count": 23,
   "id": "3f303793-b4ec-4e26-be28-9f6a78a2fc53",
   "metadata": {},
   "outputs": [
    {
     "name": "stdout",
     "output_type": "stream",
     "text": [
      "25\n"
     ]
    }
   ],
   "source": [
    "Q6\n",
    "bacon = 21\n",
    "print(bacon+4)"
   ]
  },
  {
   "cell_type": "code",
   "execution_count": 24,
   "id": "ad02c730-0882-420e-85c0-0e54e9620dda",
   "metadata": {},
   "outputs": [
    {
     "name": "stdout",
     "output_type": "stream",
     "text": [
      "21\n"
     ]
    }
   ],
   "source": [
    "print(bacon)"
   ]
  },
  {
   "cell_type": "code",
   "execution_count": null,
   "id": "cfca0b88-a0f6-4937-817d-c078b8fc5307",
   "metadata": {},
   "outputs": [],
   "source": [
    "answer 6) bacon will always conatin its original value"
   ]
  },
  {
   "cell_type": "code",
   "execution_count": 30,
   "id": "7206e2c1-63ef-4814-b4db-870832cc5fc0",
   "metadata": {},
   "outputs": [
    {
     "data": {
      "text/plain": [
       "'spamspamspam'"
      ]
     },
     "execution_count": 30,
     "metadata": {},
     "output_type": "execute_result"
    }
   ],
   "source": [
    "Q7\n",
    "'spam'+ 'spamspam'\n"
   ]
  },
  {
   "cell_type": "code",
   "execution_count": 28,
   "id": "3af5968e-34e3-4051-a63c-1e523692d9ac",
   "metadata": {},
   "outputs": [
    {
     "data": {
      "text/plain": [
       "'spamspamspam'"
      ]
     },
     "execution_count": 28,
     "metadata": {},
     "output_type": "execute_result"
    }
   ],
   "source": [
    "'spam'*3"
   ]
  },
  {
   "cell_type": "code",
   "execution_count": null,
   "id": "bf183fab-23e2-451f-a3c9-6b664058f6f0",
   "metadata": {},
   "outputs": [],
   "source": [
    "Q8:\n",
    "    beacuse varaible can be start with any name but not by any integer so thats why \"eggs\" can be variablename but\n",
    "    100 not"
   ]
  },
  {
   "cell_type": "code",
   "execution_count": null,
   "id": "6b539f83-1cdb-4577-bd72-3abf03a14b40",
   "metadata": {},
   "outputs": [],
   "source": [
    "Q9:\n",
    "    the int(), float(), str() these 3 function can be used to execute string, integer, and float value"
   ]
  },
  {
   "cell_type": "code",
   "execution_count": 31,
   "id": "7b547845-1201-41f2-8bd6-543396255ca7",
   "metadata": {},
   "outputs": [
    {
     "ename": "TypeError",
     "evalue": "can only concatenate str (not \"int\") to str",
     "output_type": "error",
     "traceback": [
      "\u001b[0;31m---------------------------------------------------------------------------\u001b[0m",
      "\u001b[0;31mTypeError\u001b[0m                                 Traceback (most recent call last)",
      "Cell \u001b[0;32mIn [31], line 1\u001b[0m\n\u001b[0;32m----> 1\u001b[0m \u001b[38;5;124;43m'\u001b[39;49m\u001b[38;5;124;43m i have eaten \u001b[39;49m\u001b[38;5;124;43m'\u001b[39;49m\u001b[43m \u001b[49m\u001b[38;5;241;43m+\u001b[39;49m\u001b[43m \u001b[49m\u001b[38;5;241;43m99\u001b[39;49m \u001b[38;5;241m+\u001b[39m\u001b[38;5;124m'\u001b[39m\u001b[38;5;124m burriots\u001b[39m\u001b[38;5;124m'\u001b[39m\n",
      "\u001b[0;31mTypeError\u001b[0m: can only concatenate str (not \"int\") to str"
     ]
    }
   ],
   "source": [
    "Q10\n",
    "' i have eaten ' + 99 +' burriots'"
   ]
  },
  {
   "cell_type": "code",
   "execution_count": null,
   "id": "e1b7cc97-fee1-4d61-a2e6-33d854bfda57",
   "metadata": {},
   "outputs": [],
   "source": [
    "as we have seen string can be added with  string only and integer with integer to solve this issue what we can do is\n",
    " change 99 to \"ninetynine\" noow this is stringand can be used "
   ]
  }
 ],
 "metadata": {
  "kernelspec": {
   "display_name": "Python 3 (ipykernel)",
   "language": "python",
   "name": "python3"
  },
  "language_info": {
   "codemirror_mode": {
    "name": "ipython",
    "version": 3
   },
   "file_extension": ".py",
   "mimetype": "text/x-python",
   "name": "python",
   "nbconvert_exporter": "python",
   "pygments_lexer": "ipython3",
   "version": "3.10.6"
  }
 },
 "nbformat": 4,
 "nbformat_minor": 5
}
